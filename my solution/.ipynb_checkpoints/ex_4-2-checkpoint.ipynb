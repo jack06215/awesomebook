{
 "metadata": {
  "language_info": {
   "codemirror_mode": {
    "name": "ipython",
    "version": 3
   },
   "file_extension": ".py",
   "mimetype": "text/x-python",
   "name": "python",
   "nbconvert_exporter": "python",
   "pygments_lexer": "ipython3",
   "version": "3.7.4-final"
  },
  "orig_nbformat": 2,
  "kernelspec": {
   "name": "python3",
   "display_name": "Python 3",
   "language": "python"
  }
 },
 "nbformat": 4,
 "nbformat_minor": 2,
 "cells": [
  {
   "cell_type": "code",
   "execution_count": 1,
   "metadata": {},
   "outputs": [],
   "source": [
    "from data_loader import load_hotel_reserve\n",
    "customer_tb, hotel_tb, reserve_tb = load_hotel_reserve()"
   ]
  },
  {
   "cell_type": "code",
   "execution_count": 2,
   "metadata": {},
   "outputs": [
    {
     "output_type": "execute_result",
     "data": {
      "text/plain": [
       "    customer_id  age    sex  home_latitude  home_longitude\n",
       "0           c_1   41    man      35.092193      136.512347\n",
       "1           c_2   38    man      35.325076      139.410551\n",
       "2           c_3   49  woman      35.120543      136.511179\n",
       "3           c_4   43    man      43.034868      141.240314\n",
       "4           c_5   31    man      35.102661      136.523797\n",
       "..          ...  ...    ...            ...             ...\n",
       "995       c_996   44    man      34.465648      135.373787\n",
       "996       c_997   35    man      35.345372      139.413754\n",
       "997       c_998   32  woman      43.062267      141.272126\n",
       "998       c_999   48  woman      38.172800      140.464198\n",
       "999      c_1000   39    man      35.452412      139.411310\n",
       "\n",
       "[1000 rows x 5 columns]"
      ],
      "text/html": "<div>\n<style scoped>\n    .dataframe tbody tr th:only-of-type {\n        vertical-align: middle;\n    }\n\n    .dataframe tbody tr th {\n        vertical-align: top;\n    }\n\n    .dataframe thead th {\n        text-align: right;\n    }\n</style>\n<table border=\"1\" class=\"dataframe\">\n  <thead>\n    <tr style=\"text-align: right;\">\n      <th></th>\n      <th>customer_id</th>\n      <th>age</th>\n      <th>sex</th>\n      <th>home_latitude</th>\n      <th>home_longitude</th>\n    </tr>\n  </thead>\n  <tbody>\n    <tr>\n      <td>0</td>\n      <td>c_1</td>\n      <td>41</td>\n      <td>man</td>\n      <td>35.092193</td>\n      <td>136.512347</td>\n    </tr>\n    <tr>\n      <td>1</td>\n      <td>c_2</td>\n      <td>38</td>\n      <td>man</td>\n      <td>35.325076</td>\n      <td>139.410551</td>\n    </tr>\n    <tr>\n      <td>2</td>\n      <td>c_3</td>\n      <td>49</td>\n      <td>woman</td>\n      <td>35.120543</td>\n      <td>136.511179</td>\n    </tr>\n    <tr>\n      <td>3</td>\n      <td>c_4</td>\n      <td>43</td>\n      <td>man</td>\n      <td>43.034868</td>\n      <td>141.240314</td>\n    </tr>\n    <tr>\n      <td>4</td>\n      <td>c_5</td>\n      <td>31</td>\n      <td>man</td>\n      <td>35.102661</td>\n      <td>136.523797</td>\n    </tr>\n    <tr>\n      <td>...</td>\n      <td>...</td>\n      <td>...</td>\n      <td>...</td>\n      <td>...</td>\n      <td>...</td>\n    </tr>\n    <tr>\n      <td>995</td>\n      <td>c_996</td>\n      <td>44</td>\n      <td>man</td>\n      <td>34.465648</td>\n      <td>135.373787</td>\n    </tr>\n    <tr>\n      <td>996</td>\n      <td>c_997</td>\n      <td>35</td>\n      <td>man</td>\n      <td>35.345372</td>\n      <td>139.413754</td>\n    </tr>\n    <tr>\n      <td>997</td>\n      <td>c_998</td>\n      <td>32</td>\n      <td>woman</td>\n      <td>43.062267</td>\n      <td>141.272126</td>\n    </tr>\n    <tr>\n      <td>998</td>\n      <td>c_999</td>\n      <td>48</td>\n      <td>woman</td>\n      <td>38.172800</td>\n      <td>140.464198</td>\n    </tr>\n    <tr>\n      <td>999</td>\n      <td>c_1000</td>\n      <td>39</td>\n      <td>man</td>\n      <td>35.452412</td>\n      <td>139.411310</td>\n    </tr>\n  </tbody>\n</table>\n<p>1000 rows × 5 columns</p>\n</div>"
     },
     "metadata": {},
     "execution_count": 2
    }
   ],
   "source": [
    "customer_tb"
   ]
  },
  {
   "cell_type": "code",
   "execution_count": null,
   "metadata": {},
   "outputs": [],
   "source": []
  }
 ]
}